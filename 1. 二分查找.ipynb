{
 "cells": [
  {
   "cell_type": "markdown",
   "metadata": {},
   "source": [
    "# 对数"
   ]
  },
  {
   "cell_type": "markdown",
   "metadata": {},
   "source": [
    "https://www.bing.com/images/search?view=detailV2&ccid=H2EY0I8k&id=7F2675A7822875E67BC2234D50115231AEC7A692&thid=OIP.H2EY0I8kLshptGzZHXKCaQHaGI&mediaurl=https%3a%2f%2fgss0.baidu.com%2f-vo3dSag_xI4khGko9WTAnF6hhy%2fzhidao%2fpic%2fitem%2f58ee3d6d55fbb2fb4eb044734f4a20a44623dc33.jpg&exph=4379&expw=5295&q=%e5%b9%82%e5%87%bd%e6%95%b0&simid=608021722124520191&selectedIndex=16&ajaxhist=0"
   ]
  },
  {
   "cell_type": "markdown",
   "metadata": {},
   "source": [
    "# 二分查找"
   ]
  },
  {
   "cell_type": "markdown",
   "metadata": {},
   "source": [
    "输入一列数组，与一个数字，如果该数字存在于该数组中，则返回index索引；若这个数组字不存在，则返回None；"
   ]
  },
  {
   "cell_type": "code",
   "execution_count": 5,
   "metadata": {
    "ExecuteTime": {
     "end_time": "2020-04-20T15:46:09.851293Z",
     "start_time": "2020-04-20T15:46:09.843788Z"
    }
   },
   "outputs": [],
   "source": [
    "lst = [1,3,5,7,9]\n",
    "item = 5\n",
    "def binary_search(lst,item):\n",
    "    low = 0\n",
    "    high = len(lst)-1\n",
    "    while low<high:\n",
    "        mid = int((low+high)/2)\n",
    "        guess = lst[mid]\n",
    "        if item == guess:\n",
    "            return mid\n",
    "        if item > guess:\n",
    "            low = mid+1   # 必须写上+1，-1，因为不➕的话，奇数个时，有可能low=mid，但low也一直小于high，\n",
    "                          # 然后这个循环就会永远的进行下去；而且计算过的元素没有必要再计算一遍\n",
    "        else:\n",
    "            high = mid-1\n",
    "    return 'No such number'"
   ]
  },
  {
   "cell_type": "code",
   "execution_count": 6,
   "metadata": {
    "ExecuteTime": {
     "end_time": "2020-04-20T15:46:10.516792Z",
     "start_time": "2020-04-20T15:46:10.504920Z"
    }
   },
   "outputs": [
    {
     "data": {
      "text/plain": [
       "2"
      ]
     },
     "execution_count": 6,
     "metadata": {},
     "output_type": "execute_result"
    }
   ],
   "source": [
    "binary_search(lst,item)"
   ]
  },
  {
   "cell_type": "code",
   "execution_count": 7,
   "metadata": {
    "ExecuteTime": {
     "end_time": "2020-04-20T15:46:10.686706Z",
     "start_time": "2020-04-20T15:46:10.676671Z"
    }
   },
   "outputs": [
    {
     "data": {
      "text/plain": [
       "3"
      ]
     },
     "execution_count": 7,
     "metadata": {},
     "output_type": "execute_result"
    }
   ],
   "source": [
    "binary_search(lst,7)"
   ]
  },
  {
   "cell_type": "code",
   "execution_count": 8,
   "metadata": {
    "ExecuteTime": {
     "end_time": "2020-04-20T15:46:10.819330Z",
     "start_time": "2020-04-20T15:46:10.809577Z"
    }
   },
   "outputs": [
    {
     "data": {
      "text/plain": [
       "'No such number'"
      ]
     },
     "execution_count": 8,
     "metadata": {},
     "output_type": "execute_result"
    }
   ],
   "source": [
    "binary_search(lst,8)"
   ]
  },
  {
   "cell_type": "markdown",
   "metadata": {},
   "source": [
    "## 递归版本"
   ]
  },
  {
   "cell_type": "code",
   "execution_count": 6,
   "metadata": {},
   "outputs": [],
   "source": [
    "# 递归：函数执行自身,调用相同的算法\n",
    "def binary_search(alist,item):\n",
    "    n = len(alist)\n",
    "    if n>0:\n",
    "        mid=n//2\n",
    "        if alist[mid]==item:\n",
    "            return True\n",
    "        elif item<alist[mid]:\n",
    "            # 在左边再次调用相同函数\n",
    "            return binary_search(alist[:mid],item) # 要写上return，不然不会返回递归调用中的True/False\n",
    "        else:\n",
    "            return binary_search(alist[mid+1:],item)\n",
    "    return False "
   ]
  },
  {
   "cell_type": "code",
   "execution_count": 7,
   "metadata": {},
   "outputs": [
    {
     "data": {
      "text/plain": [
       "True"
      ]
     },
     "execution_count": 7,
     "metadata": {},
     "output_type": "execute_result"
    }
   ],
   "source": [
    "li = [17,20,26,31,44,54,55,77,93]\n",
    "binary_search(li,55)"
   ]
  },
  {
   "cell_type": "code",
   "execution_count": 8,
   "metadata": {},
   "outputs": [
    {
     "data": {
      "text/plain": [
       "False"
      ]
     },
     "execution_count": 8,
     "metadata": {},
     "output_type": "execute_result"
    }
   ],
   "source": [
    "binary_search(li,100)"
   ]
  },
  {
   "cell_type": "markdown",
   "metadata": {},
   "source": [
    "### 时间复杂度\n",
    "- 最优：O(1)：第一次就 mid = item\n",
    "- 最坏：O(logn)"
   ]
  },
  {
   "cell_type": "markdown",
   "metadata": {},
   "source": [
    "## 非递归版本"
   ]
  },
  {
   "cell_type": "markdown",
   "metadata": {},
   "source": [
    "不通过创建新的list，而是通过改变游标位置"
   ]
  },
  {
   "cell_type": "code",
   "execution_count": 16,
   "metadata": {
    "ExecuteTime": {
     "end_time": "2020-04-20T15:50:01.596785Z",
     "start_time": "2020-04-20T15:50:01.589882Z"
    }
   },
   "outputs": [],
   "source": [
    "def binary_search(alist,item):\n",
    "    n = len(alist)\n",
    "    first = 0\n",
    "    last = n-1\n",
    "    while first <= last:\n",
    "        mid = (first+last)//2\n",
    "        if alist[mid] == item:\n",
    "            ## 区别\n",
    "            return alist.index(item)\n",
    "        elif item < alist[mid]:\n",
    "            last = mid-1\n",
    "        else:\n",
    "            first = mid+1\n",
    "    return 'None such number' "
   ]
  },
  {
   "cell_type": "code",
   "execution_count": 17,
   "metadata": {
    "ExecuteTime": {
     "end_time": "2020-04-20T15:50:01.883762Z",
     "start_time": "2020-04-20T15:50:01.872606Z"
    }
   },
   "outputs": [
    {
     "data": {
      "text/plain": [
       "6"
      ]
     },
     "execution_count": 17,
     "metadata": {},
     "output_type": "execute_result"
    }
   ],
   "source": [
    "li = [17,20,26,31,44,54,55,77,93]\n",
    "binary_search(li,55)"
   ]
  },
  {
   "cell_type": "code",
   "execution_count": 18,
   "metadata": {
    "ExecuteTime": {
     "end_time": "2020-04-20T15:50:02.061431Z",
     "start_time": "2020-04-20T15:50:02.051056Z"
    }
   },
   "outputs": [
    {
     "data": {
      "text/plain": [
       "'None such number'"
      ]
     },
     "execution_count": 18,
     "metadata": {},
     "output_type": "execute_result"
    }
   ],
   "source": [
    "binary_search(li,100)"
   ]
  },
  {
   "cell_type": "code",
   "execution_count": null,
   "metadata": {},
   "outputs": [],
   "source": []
  }
 ],
 "metadata": {
  "hide_input": false,
  "kernelspec": {
   "display_name": "Python 3",
   "language": "python",
   "name": "python3"
  },
  "language_info": {
   "codemirror_mode": {
    "name": "ipython",
    "version": 3
   },
   "file_extension": ".py",
   "mimetype": "text/x-python",
   "name": "python",
   "nbconvert_exporter": "python",
   "pygments_lexer": "ipython3",
   "version": "3.7.1"
  },
  "toc": {
   "base_numbering": 1,
   "nav_menu": {},
   "number_sections": true,
   "sideBar": true,
   "skip_h1_title": false,
   "title_cell": "Table of Contents",
   "title_sidebar": "Contents",
   "toc_cell": false,
   "toc_position": {},
   "toc_section_display": true,
   "toc_window_display": false
  }
 },
 "nbformat": 4,
 "nbformat_minor": 2
}
