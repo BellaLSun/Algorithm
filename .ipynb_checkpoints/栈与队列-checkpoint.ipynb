{
 "cells": [
  {
   "cell_type": "markdown",
   "metadata": {},
   "source": [
    "### 栈(stack)\n",
    "栈作为一种数据结构，是一种**只能在一端**进行插入和删除操作的**特殊线性表,LIFO**。它按照先进后出的原则存储数据，先进入的数据被压入栈底，最后的数据在栈顶，需要读数据的时候从栈顶开始弹出数据（最后一个数据被第一个读出来）。栈具有记忆作用，对栈的插入与删除操作中，**不需要改变栈底指针**。\n",
    "\n",
    "栈是允许在同一端进行插入和删除操作的特殊线性表。允许进行插入和删除操作的一端称为栈顶(top)，另一端为栈底(bottom)；栈底固定，而栈顶浮动；栈中元素个数为零时称为空栈。插入一般称为进栈（PUSH），删除则称为退栈（POP）。栈也称为后进先出表。\n",
    "\n",
    "栈可以用来在函数调用的时候存储断点，做递归时要用到栈！\n",
    "\n",
    "用栈的时候会用到链表。\n",
    "\n",
    "用list实现栈。"
   ]
  },
  {
   "cell_type": "code",
   "execution_count": 13,
   "metadata": {},
   "outputs": [],
   "source": [
    "# 栈对应的容器可以是顺序表(list)，也可以是链表\n",
    "# 然后再实现方法\n",
    "class Stack(object):\n",
    "    def __init__(self):\n",
    "        self.__list = []  # 建立容器\n",
    "    \n",
    "    def push(self,item):\n",
    "        # 从链表的尾部push,时间复杂度是O(1)\n",
    "        self.__list.append(item)\n",
    "        # 从链表的头部push,时间复杂度是O(n)\n",
    "        # self.__list.insert(0,item)\n",
    "    \n",
    "    def pop(self):\n",
    "        #self.__list.pop(0)\n",
    "        return self.__list.pop() # 不加return的话，则返回none\n",
    "    def peek(self):\n",
    "        \"\"\"返回栈顶元素\"\"\"\n",
    "        if self.__list: # 要判断链表是否存在，空链表不支持list[-1] 操作\n",
    "            return self.__list[-1] \n",
    "        else:\n",
    "            None\n",
    "    \n",
    "    def is_empty(self):\n",
    "        if self.__list:\n",
    "            return True\n",
    "        else:\n",
    "            return False\n",
    "    def is_empty1(self):\n",
    "        return self.__list == [] # if ==[], 则返回True.\n",
    "        return not self.__list # 空链表在逻辑值上是False,取反之后，就等于\n",
    "    \n",
    "    def size(self):\n",
    "         return len(self.__list)"
   ]
  },
  {
   "cell_type": "code",
   "execution_count": 15,
   "metadata": {},
   "outputs": [
    {
     "name": "stdout",
     "output_type": "stream",
     "text": [
      "4\n",
      "3\n",
      "2\n",
      "1\n"
     ]
    }
   ],
   "source": [
    "s = Stack()\n",
    "s.push(1)\n",
    "s.push(2)\n",
    "s.push(3)\n",
    "s.push(4)\n",
    "print(s.pop())\n",
    "print(s.pop())\n",
    "print(s.pop())\n",
    "print(s.pop())"
   ]
  },
  {
   "cell_type": "markdown",
   "metadata": {},
   "source": [
    "### 队列\n",
    "队列是一种特殊的线性表，特殊之处在于它只允许在表的前端（front）进行删除操作，而在表的后端（rear）进行插入操作，**和栈一样，队列是一种操作受限制的线性表**。进行插入操作的端称为队尾，进行删除操作的端称为队头。队列中没有元素时，称为空队列。\n",
    "\n",
    "队列的数据元素又称为队列元素。在队列中插入一个队列元素称为入队，从队列中删除一个队列元素称为出队。因为队列只允许在一端插入，在另一端删除，所以只有最早进入队列的元素才能最先从队列中删除，故队列又称为**先进先出（FIFO—first in first out）线性表**。"
   ]
  },
  {
   "cell_type": "code",
   "execution_count": 16,
   "metadata": {},
   "outputs": [],
   "source": [
    "class Queue():\n",
    "    def __init__(self): # 构造函数\n",
    "        self.__list = [] # 顺序表\n",
    "    \n",
    "    # 根据需求，如果出队用的多，则头部入读；vice versa\n",
    "    def enqueue(self,item):\n",
    "        self.__list.append(item)\n",
    "        # self.__list.insert(0,item) 头部入队\n",
    "    \n",
    "    def dequeue(self):\n",
    "        return self.__list.pop(0) #头部出队\n",
    "        # return self.__list.pop() # 尾部出队\n",
    "        \n",
    "    def is_empty(self):\n",
    "        return self.__list == []\n",
    "        \n",
    "    def size(self):\n",
    "        return len(self.__list)"
   ]
  },
  {
   "cell_type": "code",
   "execution_count": 17,
   "metadata": {},
   "outputs": [
    {
     "name": "stdout",
     "output_type": "stream",
     "text": [
      "1\n",
      "2\n",
      "3\n",
      "4\n"
     ]
    }
   ],
   "source": [
    "q = Queue()\n",
    "q.enqueue(1)\n",
    "q.enqueue(2)\n",
    "q.enqueue(3)\n",
    "q.enqueue(4)\n",
    "print(q.dequeue())\n",
    "print(q.dequeue())\n",
    "print(q.dequeue())\n",
    "print(q.dequeue())"
   ]
  },
  {
   "cell_type": "markdown",
   "metadata": {},
   "source": [
    "### 双端队列"
   ]
  },
  {
   "cell_type": "markdown",
   "metadata": {},
   "source": [
    "<img src=\"http://img3.coin163.com/19/25/6rYjY3.gif\">"
   ]
  },
  {
   "cell_type": "code",
   "execution_count": 18,
   "metadata": {},
   "outputs": [],
   "source": [
    "class Queue():\n",
    "    def __init__(self): # 构造函数\n",
    "        self.__list = [] # 顺序表\n",
    "    \n",
    "    # 根据需求，如果出队用的多，则头部入读；vice versa\n",
    "    def add_front(self,item):\n",
    "        self.__list.insert(0,item) \n",
    "    def add_rear(self,item):\n",
    "        self.__list.append(item)\n",
    "        \n",
    "    def pop_front(self):\n",
    "        return self.__list.pop(0)\n",
    "    def pop_rear(self):\n",
    "        return self.__list.pop() # 尾部出队\n",
    "        \n",
    "    def is_empty(self):\n",
    "        return self.__list == []\n",
    "        \n",
    "    def size(self):\n",
    "        return len(self.__list)"
   ]
  },
  {
   "cell_type": "code",
   "execution_count": null,
   "metadata": {},
   "outputs": [],
   "source": []
  }
 ],
 "metadata": {
  "kernelspec": {
   "display_name": "Python 3",
   "language": "python",
   "name": "python3"
  },
  "language_info": {
   "codemirror_mode": {
    "name": "ipython",
    "version": 3
   },
   "file_extension": ".py",
   "mimetype": "text/x-python",
   "name": "python",
   "nbconvert_exporter": "python",
   "pygments_lexer": "ipython3",
   "version": "3.6.5"
  }
 },
 "nbformat": 4,
 "nbformat_minor": 2
}
