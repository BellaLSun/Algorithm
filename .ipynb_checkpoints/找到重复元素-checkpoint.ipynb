{
 "cells": [
  {
   "cell_type": "code",
   "execution_count": 17,
   "metadata": {},
   "outputs": [],
   "source": [
    "a = [1, 2, 3, 2, 1, 5, 6, 5, 5, 5]"
   ]
  },
  {
   "cell_type": "code",
   "execution_count": 69,
   "metadata": {},
   "outputs": [
    {
     "name": "stdout",
     "output_type": "stream",
     "text": [
      "duplicated value is 1, its index is 0\n",
      "duplicated value is 2, its index is 1\n",
      "duplicated value is 5, its index is 5\n",
      "duplicated value is 5, its index is 5\n"
     ]
    }
   ],
   "source": [
    "# 我写的，问题是没法去重。试过了把a[i]放到list里，都没实现。。。\n",
    "# 两个for，时间复杂度太大\n",
    "counter = 0\n",
    "length = len(a)\n",
    "dup = []\n",
    "for i in range(len(a)):\n",
    "    for j in range(1,length-i):\n",
    "        if a[i] == a[i+j]:\n",
    "            counter = counter+1\n",
    "        else:\n",
    "            counter = 0\n",
    "        if counter == 1:\n",
    "            print(\"duplicated value is \"+str(a[i])+\", its index is \"+str(a.index(a[i])))\n",
    "            break\n",
    "        else:\n",
    "            continue"
   ]
  },
  {
   "cell_type": "markdown",
   "metadata": {},
   "source": [
    "### 用哈希表的方法"
   ]
  },
  {
   "cell_type": "code",
   "execution_count": null,
   "metadata": {},
   "outputs": [],
   "source": []
  },
  {
   "cell_type": "markdown",
   "metadata": {},
   "source": [
    "### 写法1"
   ]
  },
  {
   "cell_type": "code",
   "execution_count": null,
   "metadata": {},
   "outputs": [],
   "source": [
    "a = [1, 2, 3, 2, 1, 5, 6, 5, 5, 5]"
   ]
  },
  {
   "cell_type": "code",
   "execution_count": 21,
   "metadata": {},
   "outputs": [
    {
     "name": "stdout",
     "output_type": "stream",
     "text": [
      "[1, 2, 5]\n"
     ]
    }
   ],
   "source": [
    "from collections import Counter\n",
    "print([item for item, count in Counter(a).items() if count > 1])"
   ]
  },
  {
   "cell_type": "code",
   "execution_count": 23,
   "metadata": {},
   "outputs": [
    {
     "data": {
      "text/plain": [
       "dict_items([(1, 2), (2, 2), (3, 1), (5, 4), (6, 1)])"
      ]
     },
     "execution_count": 23,
     "metadata": {},
     "output_type": "execute_result"
    }
   ],
   "source": [
    "Counter(a).items()"
   ]
  },
  {
   "cell_type": "code",
   "execution_count": 27,
   "metadata": {},
   "outputs": [
    {
     "name": "stdout",
     "output_type": "stream",
     "text": [
      "[1, 2, 5]\n"
     ]
    }
   ],
   "source": [
    "# 用counter.items（）函数，得到(value,count)\n",
    "item=[]\n",
    "for i,count in Counter(a).items():\n",
    "    if count>1:\n",
    "        item.append(i)\n",
    "print(item)"
   ]
  },
  {
   "cell_type": "markdown",
   "metadata": {},
   "source": [
    "### 写法2"
   ]
  },
  {
   "cell_type": "code",
   "execution_count": 28,
   "metadata": {},
   "outputs": [
    {
     "name": "stdout",
     "output_type": "stream",
     "text": [
      "{1, 2, 5}\n"
     ]
    }
   ],
   "source": [
    "# 不用counter，提高效率\n",
    "seen = set()\n",
    "duplicated = set()\n",
    "for x in a:  \n",
    "    if x not in seen:  \n",
    "        seen.add(x)\n",
    "    else:\n",
    "        duplicated.add(x)\n",
    "print(duplicated) "
   ]
  },
  {
   "cell_type": "code",
   "execution_count": 39,
   "metadata": {},
   "outputs": [
    {
     "name": "stdout",
     "output_type": "stream",
     "text": [
      "{1, 2, 5}\n"
     ]
    }
   ],
   "source": [
    "# 数组\n",
    "a = [1, 2, 3, 2, 1, 5, 6, 5, 5, 5]\n",
    "duplicated = []\n",
    "for i in range(0, len(a)):\n",
    "    if a[i] in a[i+1:]:\n",
    "        duplicated.append(a[i])\n",
    "print(set(duplicated))"
   ]
  },
  {
   "cell_type": "code",
   "execution_count": 38,
   "metadata": {},
   "outputs": [
    {
     "name": "stdout",
     "output_type": "stream",
     "text": [
      "{1, 2, 5}\n"
     ]
    }
   ],
   "source": [
    "# 集合\n",
    "duplicated = set()\n",
    "for i in range(0, len(a)):\n",
    "    if a[i] in a[i+1:]:\n",
    "        duplicated.add(a[i])\n",
    "print(duplicated)"
   ]
  },
  {
   "cell_type": "markdown",
   "metadata": {},
   "source": [
    "### 写法3"
   ]
  },
  {
   "cell_type": "code",
   "execution_count": 40,
   "metadata": {},
   "outputs": [
    {
     "name": "stdout",
     "output_type": "stream",
     "text": [
      "(1, [0, 4])\n",
      "(2, [1, 3])\n",
      "(5, [5, 7, 8, 9])\n"
     ]
    }
   ],
   "source": [
    "a = [1, 2, 3, 2, 1, 5, 6, 5, 5, 5]\n",
    "source = a\n",
    "from collections import defaultdict\n",
    "def list_duplicates(seq):\n",
    "    tally = defaultdict(list)\n",
    "    for i,item in enumerate(seq):\n",
    "        tally[item].append(i)\n",
    "    return ((key,locs) for key,locs in tally.items() \n",
    "                            if len(locs)>1)\n",
    " \n",
    "for dup in sorted(list_duplicates(source)):\n",
    "    print(dup)"
   ]
  },
  {
   "cell_type": "code",
   "execution_count": null,
   "metadata": {},
   "outputs": [],
   "source": []
  }
 ],
 "metadata": {
  "kernelspec": {
   "display_name": "Python 3",
   "language": "python",
   "name": "python3"
  },
  "language_info": {
   "codemirror_mode": {
    "name": "ipython",
    "version": 3
   },
   "file_extension": ".py",
   "mimetype": "text/x-python",
   "name": "python",
   "nbconvert_exporter": "python",
   "pygments_lexer": "ipython3",
   "version": "3.6.5"
  }
 },
 "nbformat": 4,
 "nbformat_minor": 2
}
