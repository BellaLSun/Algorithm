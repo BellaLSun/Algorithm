{
 "cells": [
  {
   "cell_type": "code",
   "execution_count": 4,
   "metadata": {},
   "outputs": [
    {
     "name": "stdout",
     "output_type": "stream",
     "text": [
      "0 2\n",
      "1 5\n",
      "2 3\n",
      "3 6\n",
      "4 9\n",
      "5 4\n",
      "6 0\n"
     ]
    }
   ],
   "source": [
    "numbs = [2,5,3,6,9,4,0]\n",
    "for i,m in enumerate(numbs):\n",
    "    print(i,m)"
   ]
  },
  {
   "cell_type": "code",
   "execution_count": 5,
   "metadata": {},
   "outputs": [],
   "source": [
    "# in python, dict is hash\n",
    "dict = {}"
   ]
  },
  {
   "cell_type": "code",
   "execution_count": 6,
   "metadata": {},
   "outputs": [
    {
     "data": {
      "text/plain": [
       "{2: 0, 5: 1, 3: 2, 6: 3, 9: 4, 4: 5, 0: 6}"
      ]
     },
     "execution_count": 6,
     "metadata": {},
     "output_type": "execute_result"
    }
   ],
   "source": [
    "for i,m in enumerate(numbs):\n",
    "    # dict[index] = value\n",
    "    dict[m] = i\n",
    "dict"
   ]
  },
  {
   "cell_type": "markdown",
   "metadata": {},
   "source": [
    "### two sum: 返回两个值相加=9的index"
   ]
  },
  {
   "cell_type": "markdown",
   "metadata": {},
   "source": [
    "1. 用两个循环的方法，但是时间复杂度 = $N^2$,空间复杂度=1，因为没有开辟新的空间。\n",
    "2. hash表"
   ]
  },
  {
   "cell_type": "code",
   "execution_count": 10,
   "metadata": {},
   "outputs": [],
   "source": [
    "numbs = [2,6,3,7,9,4,0]\n",
    "dict = {}"
   ]
  },
  {
   "cell_type": "code",
   "execution_count": 16,
   "metadata": {},
   "outputs": [],
   "source": [
    "indexc = []\n",
    "def comp(target,numbs):\n",
    "    for i,num in enumerate(numbs):\n",
    "        # 返回index\n",
    "        dict[num] = i\n",
    "    for i,num in enumerate(numbs):\n",
    "        # 防止自己本身相加=target，返回两个自己值的情况\n",
    "        if target-num in dict and dict[target-num] != dict[num]:\n",
    "            print(i,dict[target-num])"
   ]
  },
  {
   "cell_type": "code",
   "execution_count": 17,
   "metadata": {},
   "outputs": [
    {
     "name": "stdout",
     "output_type": "stream",
     "text": [
      "0 3\n",
      "1 2\n",
      "2 1\n",
      "3 0\n",
      "4 6\n",
      "6 4\n"
     ]
    }
   ],
   "source": [
    "comp(9,numbs)"
   ]
  },
  {
   "cell_type": "code",
   "execution_count": 18,
   "metadata": {},
   "outputs": [],
   "source": [
    "indexc = []\n",
    "def comp(target,numbs):\n",
    "    for i,num in enumerate(numbs):\n",
    "        # 返回index\n",
    "        dict[num] = i\n",
    "    for i,num in enumerate(numbs):\n",
    "        # 防止自己本身相加=target，返回两个自己值的情况\n",
    "        if target-num in dict and dict[target-num] != dict[num] and i>dict[target-num]:\n",
    "            print(i,dict[target-num])"
   ]
  },
  {
   "cell_type": "code",
   "execution_count": 19,
   "metadata": {},
   "outputs": [
    {
     "name": "stdout",
     "output_type": "stream",
     "text": [
      "2 1\n",
      "3 0\n",
      "6 4\n"
     ]
    }
   ],
   "source": [
    "comp(9,numbs)"
   ]
  },
  {
   "cell_type": "markdown",
   "metadata": {},
   "source": [
    "** Optimize**"
   ]
  },
  {
   "cell_type": "code",
   "execution_count": 23,
   "metadata": {},
   "outputs": [],
   "source": [
    "indexc = []\n",
    "def comp(target,numbs):\n",
    "    for i,num in enumerate(numbs):\n",
    "        if target-num in dict:\n",
    "            print(i,dict[target-num])\n",
    "        else:\n",
    "            # one loop -> O(N^2)\n",
    "            dict[num]=i"
   ]
  },
  {
   "cell_type": "code",
   "execution_count": 24,
   "metadata": {},
   "outputs": [
    {
     "name": "stdout",
     "output_type": "stream",
     "text": [
      "0 3\n",
      "1 2\n",
      "2 1\n",
      "3 0\n",
      "4 6\n",
      "6 4\n"
     ]
    }
   ],
   "source": [
    "comp(9,numbs)"
   ]
  },
  {
   "cell_type": "code",
   "execution_count": null,
   "metadata": {},
   "outputs": [],
   "source": []
  }
 ],
 "metadata": {
  "kernelspec": {
   "display_name": "Python 3",
   "language": "python",
   "name": "python3"
  },
  "language_info": {
   "codemirror_mode": {
    "name": "ipython",
    "version": 3
   },
   "file_extension": ".py",
   "mimetype": "text/x-python",
   "name": "python",
   "nbconvert_exporter": "python",
   "pygments_lexer": "ipython3",
   "version": "3.6.5"
  }
 },
 "nbformat": 4,
 "nbformat_minor": 2
}
