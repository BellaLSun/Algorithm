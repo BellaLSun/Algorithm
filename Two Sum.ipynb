{
 "cells": [
  {
   "cell_type": "code",
   "execution_count": 10,
   "metadata": {
    "ExecuteTime": {
     "end_time": "2019-01-13T12:58:21.424298Z",
     "start_time": "2019-01-13T12:58:21.417669Z"
    }
   },
   "outputs": [
    {
     "name": "stdout",
     "output_type": "stream",
     "text": [
      "0 2\n",
      "1 5\n",
      "2 3\n",
      "3 6\n",
      "4 9\n",
      "5 4\n",
      "6 0\n"
     ]
    }
   ],
   "source": [
    "numbs = [2,5,3,6,9,4,0]\n",
    "for i,m in enumerate(numbs):\n",
    "    print(i,m)"
   ]
  },
  {
   "cell_type": "code",
   "execution_count": 11,
   "metadata": {
    "ExecuteTime": {
     "end_time": "2019-01-13T12:58:24.693218Z",
     "start_time": "2019-01-13T12:58:24.687688Z"
    }
   },
   "outputs": [],
   "source": [
    "# in python, dict is hash\n",
    "dict = {}"
   ]
  },
  {
   "cell_type": "code",
   "execution_count": 12,
   "metadata": {
    "ExecuteTime": {
     "end_time": "2019-01-13T12:58:25.029808Z",
     "start_time": "2019-01-13T12:58:25.016839Z"
    }
   },
   "outputs": [
    {
     "data": {
      "text/plain": [
       "{2: 0, 5: 1, 3: 2, 6: 3, 9: 4, 4: 5, 0: 6}"
      ]
     },
     "execution_count": 12,
     "metadata": {},
     "output_type": "execute_result"
    }
   ],
   "source": [
    "# 转换index和value的位置\n",
    "for i,m in enumerate(numbs):\n",
    "    # dict[index] = value\n",
    "    dict[m] = i\n",
    "dict"
   ]
  },
  {
   "cell_type": "markdown",
   "metadata": {
    "ExecuteTime": {
     "end_time": "2019-01-13T13:01:13.974283Z",
     "start_time": "2019-01-13T13:01:13.966267Z"
    }
   },
   "source": [
    "dict['key']=value"
   ]
  },
  {
   "cell_type": "markdown",
   "metadata": {},
   "source": [
    "### two sum: 返回两个值相加=9的index"
   ]
  },
  {
   "cell_type": "markdown",
   "metadata": {},
   "source": [
    "1. 用两个循环的方法，但是时间复杂度 = $N^2$,空间复杂度=1，因为没有开辟新的空间。\n",
    "2. hash表"
   ]
  },
  {
   "cell_type": "code",
   "execution_count": 4,
   "metadata": {
    "ExecuteTime": {
     "end_time": "2019-01-13T12:56:23.835400Z",
     "start_time": "2019-01-13T12:56:23.831867Z"
    }
   },
   "outputs": [],
   "source": [
    "numbs = [2,6,3,7,9,4,0]\n",
    "dict = {}"
   ]
  },
  {
   "cell_type": "code",
   "execution_count": 5,
   "metadata": {
    "ExecuteTime": {
     "end_time": "2019-01-13T12:56:27.003597Z",
     "start_time": "2019-01-13T12:56:26.998038Z"
    }
   },
   "outputs": [],
   "source": [
    "def comp(target,numbs):\n",
    "    for i,num in enumerate(numbs):\n",
    "        # 返回index\n",
    "        dict[num] = i\n",
    "    print(dict)\n",
    "    for i,num in enumerate(numbs):\n",
    "        # 如果差值（value）在dict中，\n",
    "        if target-num in dict and dict[target-num] != dict[num]:# 两个值的index不相等：防止自己本身相加=target，返回两个自己值的情况\n",
    "            # 返回两个值的index\n",
    "            print(i,dict[target-num])"
   ]
  },
  {
   "cell_type": "code",
   "execution_count": 11,
   "metadata": {},
   "outputs": [
    {
     "name": "stdout",
     "output_type": "stream",
     "text": [
      "{2: 0, 5: 1, 3: 2, 6: 3, 9: 4, 4: 5, 0: 6}\n",
      "1 5\n",
      "2 3\n",
      "3 2\n",
      "4 6\n",
      "5 1\n",
      "6 4\n"
     ]
    }
   ],
   "source": [
    "comp(9,numbs)"
   ]
  },
  {
   "cell_type": "code",
   "execution_count": 13,
   "metadata": {},
   "outputs": [],
   "source": [
    "def comp(target,numbs):\n",
    "    for i,num in enumerate(numbs):\n",
    "        # 返回index\n",
    "        dict[num] = i\n",
    "    for i,num in enumerate(numbs):\n",
    "        if target-num in dict and dict[target-num] != dict[num] and i>dict[target-num]:\n",
    "            print(i,dict[target-num])"
   ]
  },
  {
   "cell_type": "code",
   "execution_count": 14,
   "metadata": {},
   "outputs": [
    {
     "name": "stdout",
     "output_type": "stream",
     "text": [
      "3 2\n",
      "5 1\n",
      "6 4\n"
     ]
    }
   ],
   "source": [
    "comp(9,numbs)"
   ]
  },
  {
   "cell_type": "markdown",
   "metadata": {},
   "source": [
    "** Optimize: 减少一个循环，降低时间复杂度**"
   ]
  },
  {
   "cell_type": "code",
   "execution_count": 21,
   "metadata": {},
   "outputs": [],
   "source": [
    "numbs = [2,6,3,7,9,4,0]\n",
    "dict={}\n",
    "def comp(target,numbs):\n",
    "    for i,num in enumerate(numbs):\n",
    "        if target-num in dict:\n",
    "            print(i,dict[target-num])\n",
    "        else:\n",
    "            # one loop -> O(N^2)\n",
    "            dict[num]=i\n",
    "            print (dict)"
   ]
  },
  {
   "cell_type": "code",
   "execution_count": 22,
   "metadata": {},
   "outputs": [
    {
     "name": "stdout",
     "output_type": "stream",
     "text": [
      "{2: 0}\n",
      "{2: 0, 6: 1}\n",
      "2 1\n",
      "3 0\n",
      "{2: 0, 6: 1, 9: 4}\n",
      "{2: 0, 6: 1, 9: 4, 4: 5}\n",
      "6 4\n"
     ]
    }
   ],
   "source": [
    "comp(9,numbs)"
   ]
  },
  {
   "cell_type": "code",
   "execution_count": null,
   "metadata": {},
   "outputs": [],
   "source": []
  }
 ],
 "metadata": {
  "hide_input": false,
  "kernelspec": {
   "display_name": "Python 3",
   "language": "python",
   "name": "python3"
  },
  "language_info": {
   "codemirror_mode": {
    "name": "ipython",
    "version": 3
   },
   "file_extension": ".py",
   "mimetype": "text/x-python",
   "name": "python",
   "nbconvert_exporter": "python",
   "pygments_lexer": "ipython3",
   "version": "3.6.5"
  },
  "toc": {
   "base_numbering": 1,
   "nav_menu": {},
   "number_sections": true,
   "sideBar": true,
   "skip_h1_title": false,
   "title_cell": "Table of Contents",
   "title_sidebar": "Contents",
   "toc_cell": false,
   "toc_position": {},
   "toc_section_display": true,
   "toc_window_display": false
  }
 },
 "nbformat": 4,
 "nbformat_minor": 2
}
