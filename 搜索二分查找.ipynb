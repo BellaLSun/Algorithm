{
 "cells": [
  {
   "cell_type": "markdown",
   "metadata": {},
   "source": [
    "### 在已经sort排序的情况下，进行二分查找"
   ]
  },
  {
   "cell_type": "markdown",
   "metadata": {},
   "source": [
    "### 递归版本"
   ]
  },
  {
   "cell_type": "markdown",
   "metadata": {},
   "source": [
    "#### 查找是否存在"
   ]
  },
  {
   "cell_type": "code",
   "execution_count": 6,
   "metadata": {},
   "outputs": [],
   "source": [
    "# 递归：函数执行自身,调用相同的算法\n",
    "def binary_search(alist,item):\n",
    "    n = len(alist)\n",
    "    if n>0:\n",
    "        mid=n//2\n",
    "        if alist[mid]==item:\n",
    "            return True\n",
    "        elif item<alist[mid]:\n",
    "            # 在左边再次调用相同函数\n",
    "            return binary_search(alist[:mid],item) # 要写上return，不然不会返回递归调用中的True/False\n",
    "        else:\n",
    "            return binary_search(alist[mid+1:],item)\n",
    "    return False "
   ]
  },
  {
   "cell_type": "code",
   "execution_count": 7,
   "metadata": {},
   "outputs": [
    {
     "data": {
      "text/plain": [
       "True"
      ]
     },
     "execution_count": 7,
     "metadata": {},
     "output_type": "execute_result"
    }
   ],
   "source": [
    "li = [17,20,26,31,44,54,55,77,93]\n",
    "binary_search(li,55)"
   ]
  },
  {
   "cell_type": "code",
   "execution_count": 8,
   "metadata": {},
   "outputs": [
    {
     "data": {
      "text/plain": [
       "False"
      ]
     },
     "execution_count": 8,
     "metadata": {},
     "output_type": "execute_result"
    }
   ],
   "source": [
    "binary_search(li,100)"
   ]
  },
  {
   "cell_type": "markdown",
   "metadata": {},
   "source": [
    "### 时间复杂度\n",
    "- 最优：O(1)：第一次就 mid = item\n",
    "- 最坏：O(logn)"
   ]
  },
  {
   "cell_type": "markdown",
   "metadata": {},
   "source": [
    "#### 查找是否存在，并返回index"
   ]
  },
  {
   "cell_type": "markdown",
   "metadata": {},
   "source": [
    "由于生成的新列表会inplace原来的列表，所以这么写很难返回在原列表中的index"
   ]
  },
  {
   "cell_type": "markdown",
   "metadata": {},
   "source": [
    "### 非递归版本"
   ]
  },
  {
   "cell_type": "markdown",
   "metadata": {},
   "source": [
    "不通过创建新的list，而是通过改变游标位置"
   ]
  },
  {
   "cell_type": "code",
   "execution_count": 12,
   "metadata": {},
   "outputs": [],
   "source": [
    "def binary_search(alist,item):\n",
    "    n = len(alist)\n",
    "    first = 0\n",
    "    last = n-1\n",
    "    while first <= last:\n",
    "        mid = (first+last)//2\n",
    "        if alist[mid] == item:\n",
    "            return True\n",
    "        elif item < alist[mid]:\n",
    "            last = mid-1\n",
    "        else:\n",
    "            first = mid+1\n",
    "    return False   "
   ]
  },
  {
   "cell_type": "code",
   "execution_count": 13,
   "metadata": {},
   "outputs": [
    {
     "data": {
      "text/plain": [
       "True"
      ]
     },
     "execution_count": 13,
     "metadata": {},
     "output_type": "execute_result"
    }
   ],
   "source": [
    "li = [17,20,26,31,44,54,55,77,93]\n",
    "binary_search(li,55)"
   ]
  },
  {
   "cell_type": "code",
   "execution_count": 14,
   "metadata": {},
   "outputs": [],
   "source": [
    "def binary_search(alist,item):\n",
    "    n = len(alist)\n",
    "    first = 0\n",
    "    last = n-1\n",
    "    while first <= last:\n",
    "        mid = (first+last)//2\n",
    "        if alist[mid] == item:\n",
    "            return alist.index(item)\n",
    "        elif item < alist[mid]:\n",
    "            last = mid-1\n",
    "        else:\n",
    "            first = mid+1\n",
    "    return False "
   ]
  },
  {
   "cell_type": "code",
   "execution_count": 15,
   "metadata": {},
   "outputs": [
    {
     "data": {
      "text/plain": [
       "6"
      ]
     },
     "execution_count": 15,
     "metadata": {},
     "output_type": "execute_result"
    }
   ],
   "source": [
    "li = [17,20,26,31,44,54,55,77,93]\n",
    "binary_search(li,55)"
   ]
  },
  {
   "cell_type": "code",
   "execution_count": 16,
   "metadata": {},
   "outputs": [
    {
     "data": {
      "text/plain": [
       "False"
      ]
     },
     "execution_count": 16,
     "metadata": {},
     "output_type": "execute_result"
    }
   ],
   "source": [
    "binary_search(li,100)"
   ]
  }
 ],
 "metadata": {
  "kernelspec": {
   "display_name": "Python 3",
   "language": "python",
   "name": "python3"
  },
  "language_info": {
   "codemirror_mode": {
    "name": "ipython",
    "version": 3
   },
   "file_extension": ".py",
   "mimetype": "text/x-python",
   "name": "python",
   "nbconvert_exporter": "python",
   "pygments_lexer": "ipython3",
   "version": "3.6.5"
  }
 },
 "nbformat": 4,
 "nbformat_minor": 2
}
