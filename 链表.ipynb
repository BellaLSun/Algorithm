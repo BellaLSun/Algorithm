{
 "cells": [
  {
   "cell_type": "markdown",
   "metadata": {},
   "source": [
    "顺序表中，如果要增加数据，要动态改变数据区。\n",
    "比如：li = [200,400,600]\n",
    "对于数据元素，不仅有数据，还有400存储单元的位置。\n",
    "\n",
    "连接区= 指针区"
   ]
  },
  {
   "cell_type": "markdown",
   "metadata": {},
   "source": [
    "<img src='3.png'>"
   ]
  },
  {
   "cell_type": "markdown",
   "metadata": {},
   "source": [
    "### 单向链表"
   ]
  },
  {
   "cell_type": "markdown",
   "metadata": {},
   "source": [
    "<img src='4.png'>"
   ]
  },
  {
   "cell_type": "code",
   "execution_count": 1,
   "metadata": {},
   "outputs": [
    {
     "name": "stdout",
     "output_type": "stream",
     "text": [
      "20 10\n"
     ]
    }
   ],
   "source": [
    "a = 10 # a的空间位置指向10，a保存的不是对象的数值，而是对象的地址\n",
    "b = 20\n",
    "a,b = b,a\n",
    "print(a,b)"
   ]
  },
  {
   "cell_type": "code",
   "execution_count": 31,
   "metadata": {},
   "outputs": [],
   "source": [
    "class Node(object):\n",
    "    def __init__(self,elem):\n",
    "        self.elem = elem\n",
    "        self.next = None \n",
    "        # 元祖也可以表达（elem,None）（代表元素，指向区域）\n",
    "\n",
    "        \n",
    "class SingleLinkList(object):\n",
    "    def __init__(self,node=None): # 给node设置默认参数，什么都不传的时候就默认是空链表\n",
    "        self.__head = node          # 下划线__》代表私有\n",
    "        \n",
    "    # 以下都是对象方法，不是类方法\n",
    "    def is_empty(self):\n",
    "        return self.__head==None\n",
    "    \n",
    "    def length(self):\n",
    "        # cur游标，用来遍历节点\n",
    "        cur = self.__head\n",
    "        # count计数\n",
    "        count=0\n",
    "        while cur!=None:  # 不能用cur.next!=None,因为如果cur是空链表，则从这里就会报错\n",
    "            count+=1\n",
    "            cur = cur.next\n",
    "        return count\n",
    "    \n",
    "    def travel(self):\n",
    "        cur = self.__head\n",
    "        while cur!=None:\n",
    "            print(cur.elem,end = \" \")\n",
    "            cur = cur.next\n",
    "        print(\"\")#换行\n",
    "    \n",
    "    # 头插法\n",
    "    # https://www.bilibili.com/video/av21540971/?p=13\n",
    "    def add(self,item): # 头部添加\n",
    "        node = Node(item)\n",
    "        node.next = self.__head # 先改指向\n",
    "        self.__head = node # 再改元素\n",
    "    \n",
    "    # 尾插法\n",
    "    def append(self,item): # 尾部添加\n",
    "        # item是具体的数据元素，不是节点，所以要先构造节点\n",
    "        node = Node(item)\n",
    "        if self.is_empty():\n",
    "            self.__head = node\n",
    "        else:\n",
    "            cur = self.__head\n",
    "            while cur.next!=None: # 如果cur是空列表，则没有next属性，就会报错。所以要添加特殊情况\n",
    "                cur = cur.next\n",
    "            cur.next = node\n",
    "        \n",
    "    def insert(self,pos,item): # 指 定位置添加\n",
    "        \"\"\"\n",
    "            :param pos from 0\n",
    "        \"\"\"\n",
    "        if pos<=0: # 如果想要插入的位置小于等于0，说明是要头插\n",
    "            self.add(item) \n",
    "        elif pos>(self.length()-1): # 如果想要插入的位置比末尾还大，说明是要尾插\n",
    "            self.append(item)\n",
    "        else:\n",
    "            pre = self.__head \n",
    "            # pre不是head，而是head的指向，指向下一个节点； \n",
    "            # = 代表把节点的位置赋值给新的pre，就是说，pre指向下一个节点\n",
    "            # 开始移动了\n",
    "            count = 0\n",
    "            while count < (pos-1):\n",
    "                count+=1\n",
    "                pre = pre.next\n",
    "            # 循环退出后，pre指向pos-1\n",
    "            node = Node(item)\n",
    "            node.next = pre.next\n",
    "            pre.next = node\n",
    "\n",
    "        \n",
    "    \n",
    "    def remove(self,item):\n",
    "        pass\n",
    "    def search(self,item):\n",
    "        pass"
   ]
  },
  {
   "cell_type": "code",
   "execution_count": 32,
   "metadata": {},
   "outputs": [
    {
     "name": "stdout",
     "output_type": "stream",
     "text": [
      "True\n",
      "0\n",
      "False\n",
      "1\n",
      "1 2 3 4 5 6 \n"
     ]
    }
   ],
   "source": [
    "ll = SingleLinkList()\n",
    "print(ll.is_empty())\n",
    "print(ll.length())\n",
    "ll.append(1)\n",
    "print(ll.is_empty())\n",
    "print(ll.length())\n",
    "ll.append(2)\n",
    "ll.append(3)\n",
    "ll.append(4)\n",
    "ll.append(5)\n",
    "ll.append(6)\n",
    "ll.travel()"
   ]
  },
  {
   "cell_type": "code",
   "execution_count": 33,
   "metadata": {},
   "outputs": [
    {
     "name": "stdout",
     "output_type": "stream",
     "text": [
      "6 5 4 3 2 1 \n"
     ]
    }
   ],
   "source": [
    "ss = SingleLinkList()\n",
    "ss.add(1)\n",
    "ss.add(2)\n",
    "ss.add(3)\n",
    "ss.add(4)\n",
    "ss.add(5)\n",
    "ss.add(6)\n",
    "ss.travel()"
   ]
  },
  {
   "cell_type": "code",
   "execution_count": 34,
   "metadata": {},
   "outputs": [
    {
     "name": "stdout",
     "output_type": "stream",
     "text": [
      "9 6 5 4 3 2 1 \n",
      "9 6 5 100 4 3 2 1 \n",
      "9 6 5 100 4 3 2 1 200 \n"
     ]
    }
   ],
   "source": [
    "ss.insert(-1,9)\n",
    "ss.travel()\n",
    "ss.insert(3,100)\n",
    "ss.travel()\n",
    "ss.insert(10,200)\n",
    "ss.travel()"
   ]
  },
  {
   "cell_type": "code",
   "execution_count": null,
   "metadata": {},
   "outputs": [],
   "source": []
  }
 ],
 "metadata": {
  "kernelspec": {
   "display_name": "Python 3",
   "language": "python",
   "name": "python3"
  },
  "language_info": {
   "codemirror_mode": {
    "name": "ipython",
    "version": 3
   },
   "file_extension": ".py",
   "mimetype": "text/x-python",
   "name": "python",
   "nbconvert_exporter": "python",
   "pygments_lexer": "ipython3",
   "version": "3.6.5"
  }
 },
 "nbformat": 4,
 "nbformat_minor": 2
}
