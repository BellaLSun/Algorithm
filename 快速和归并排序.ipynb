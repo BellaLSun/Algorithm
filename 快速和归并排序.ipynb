{
 "cells": [
  {
   "cell_type": "markdown",
   "metadata": {},
   "source": [
    "https://www.bilibili.com/video/av21540971/?p=30"
   ]
  },
  {
   "cell_type": "markdown",
   "metadata": {},
   "source": [
    "### 快速排序（最重要）"
   ]
  },
  {
   "cell_type": "markdown",
   "metadata": {},
   "source": [
    "每次用两个游标cursor，两个方向共同确定值的位置"
   ]
  },
  {
   "cell_type": "raw",
   "metadata": {},
   "source": [
    "def quick_sort(alist):\n",
    "    mid_value = alist[0]\n",
    "    low = 0\n",
    "    n = len(alist)\n",
    "    high = n-1 # 0 ~ n-1, 一共n个\n",
    "    # 开始移动了\n",
    "    # 如果两个指针没相遇，并且high比midvalue大，可以继续递归\n",
    "    # 不能用if：因为不是循环。无法写for加if的话，因为不知道迭代次数\n",
    "    while low < high:\n",
    "        while low < high and alist[high]>=mid_value: \n",
    "            high-=1\n",
    "        # 如果不满足条件，就跳出，进行赋值交换，指针位置没有变，变的只是值\n",
    "        alist[low] = alist[high]\n",
    "        # low+=1 会错过\n",
    "\n",
    "        while low < high and alist[low]<mid_value: \n",
    "            low+=1\n",
    "        alist[high] = alist[low]\n",
    "        # high-=1\n",
    "    # 从循环退出时，low=high\n",
    "    # 然后在mid_value左边和右边，分别再循环一次，找到它们的mid_value\n",
    "    # left\n",
    "    low = alist[0]\n",
    "    high = mid_value\n",
    "    while low < high:\n",
    "        continue\n",
    "    # right\n",
    "    low=mid_value\n",
    "    hight=alist[-1]\n",
    "    while low < high:\n",
    "        continue"
   ]
  },
  {
   "cell_type": "raw",
   "metadata": {},
   "source": [
    "def quick_sort(alist):\n",
    "    mid_value = alist[0]\n",
    "    low = 0\n",
    "    n = len(alist)\n",
    "    high = n-1 # 0 ~ n-1, 一共n个\n",
    "    # 开始移动了\n",
    "    # 如果两个指针没相遇，并且high比midvalue大，可以继续执行\n",
    "    # 不能用if：因为不是循环。无法写for加if的话，因为不知道迭代次数\n",
    "    while low < high:\n",
    "        while low < high and alist[high]>=mid_value: \n",
    "            high-=1\n",
    "        # 如果不满足条件，就跳出，进行赋值交换，指针位置没有变，变的只是值\n",
    "        alist[low] = alist[high]\n",
    "\n",
    "        while low < high and alist[low]<mid_value: \n",
    "            low+=1\n",
    "        alist[high] = alist[low]\n",
    "    # 从循环退出时，low=high\n",
    "    # 然后在mid_value左边和右边，分别再循环一次，找到它们的mid_value\n",
    "    # 递归！！！\n",
    "    quick_sort(alist[:low-1]) \n",
    "     # 切片，默认inplace=True.所以如果这样操作的话，那么下一次就是在切片上排序了，而目的时在原序列上排序\n",
    "    quich_sort(alist[low+1:])"
   ]
  },
  {
   "cell_type": "code",
   "execution_count": 13,
   "metadata": {},
   "outputs": [],
   "source": [
    "def quick_sort(alist,first,last):\n",
    "    # 终止条件(不然无限循环，只剩一个元素也一直排)\n",
    "    # 如果list只有一个元素了\n",
    "    if first >= last:\n",
    "        return alist # 直接写return也可以\n",
    "    mid_value = alist[first]\n",
    "    low = first\n",
    "    high = last \n",
    " \n",
    "    while low < high:\n",
    "        while low < high and alist[high]>=mid_value: \n",
    "            high-=1\n",
    "        alist[low] = alist[high]\n",
    "\n",
    "        while low < high and alist[low]<mid_value: \n",
    "            low+=1\n",
    "        alist[high] = alist[low]\n",
    "    # 从循环退出时，low=high\n",
    "    alist[low] = mid_value\n",
    "    # 递归！！！\n",
    "    quick_sort(alist,first,low-1) \n",
    "    quick_sort(alist,low+1 ,last)"
   ]
  },
  {
   "cell_type": "code",
   "execution_count": 14,
   "metadata": {},
   "outputs": [
    {
     "name": "stdout",
     "output_type": "stream",
     "text": [
      "[54, 26, 93, 17, 77, 31, 44, 55, 20]\n",
      "[17, 20, 26, 31, 44, 54, 55, 77, 93]\n"
     ]
    }
   ],
   "source": [
    "li = [54,26,93,17,77,31,44,55,20]\n",
    "print(li) \n",
    "quick_sort(li,0,len(li)-1)\n",
    "print (li)"
   ]
  },
  {
   "cell_type": "markdown",
   "metadata": {},
   "source": [
    "#### 以上，用了while循环和递归，比较复杂\n",
    "#### 时间复杂度\n",
    "- 最优：O(nlogn)：第一次分成2份，第二次分成两份的两份，以此类推，直到只剩一个元素不能再分了，设共需遍历$x$次,就是$2^x$=n,所以$x=log_2n$。而每次分的时候，都要遍历所有的元素，所以时间复杂度是n。汇总相乘起来，就是nlogn.\n",
    "- 最坏：O($n^2$)：需要迭代n次才能全部分开。\n",
    "- 不稳定\n",
    "- 冒泡排序很稳定"
   ]
  },
  {
   "cell_type": "markdown",
   "metadata": {},
   "source": [
    "### 归并排序"
   ]
  },
  {
   "cell_type": "markdown",
   "metadata": {},
   "source": [
    "先递归分解数组，再合并数组。好复杂啊。。。很多的嵌套，一级一级的执行，等待return"
   ]
  },
  {
   "cell_type": "code",
   "execution_count": 16,
   "metadata": {},
   "outputs": [],
   "source": [
    "def merge_sort(alist):\n",
    "    n = len(alist)\n",
    "    if n<=1:\n",
    "        return alist\n",
    "    # 拆分\n",
    "    mid = n//2\n",
    "    # 递归：又要调用 n = len(alist)，mid = n//2，形成新列表，等待返回值\n",
    "    left_li = merge_sort(alist[:mid])# 切片，返回的是新的子列表（和快排的区别）\n",
    "    right_li = merge_sort(alist[mid:])\n",
    "    # 合并\n",
    "    left_pointer,right_pointer = 0,0 #因为返回的是新切片，所以第一个index都是0\n",
    "    result = []\n",
    "    # 终止条件：\n",
    "    # 右指针走到头（因为如果是奇数个的话，右边比右边多一个元素，右边走到头代表左边一定走到头了）\n",
    "    while left_pointer < len(left_li) and right_pointer < len(right_li):\n",
    "        if left_li[left_pointer] <=  right_li[right_pointer]:\n",
    "            result.append(left_li[left_pointer])\n",
    "            left_pointer+=1\n",
    "        else:\n",
    "            result.append(right_li[right_pointer])\n",
    "            right_pointer+=1\n",
    "    # 把最后一个元素加进去\n",
    "    result+=left_li[left_pointer:]\n",
    "    result+=right_li[right_pointer:]\n",
    "    return result"
   ]
  },
  {
   "cell_type": "code",
   "execution_count": 22,
   "metadata": {},
   "outputs": [
    {
     "name": "stdout",
     "output_type": "stream",
     "text": [
      "[54, 26, 93, 17, 77, 31, 44, 55, 20]\n",
      "[54, 26, 93, 17, 77, 31, 44, 55, 20]\n",
      "[17, 20, 26, 31, 44, 54, 55, 77, 93]\n"
     ]
    }
   ],
   "source": [
    "li = [54,26,93,17,77,31,44,55,20]\n",
    "print(li) \n",
    "sorted_list = merge_sort(li)\n",
    "print(li) # 不会改变原列表\n",
    "print(sorted_list)"
   ]
  },
  {
   "cell_type": "markdown",
   "metadata": {},
   "source": [
    "### 时间复杂度\n",
    "涉及递归，直接看代码很难确定复杂度，分析整个过程。\n",
    "- 拆分的时候，用的切片，所以整个list只过了一遍，O(1)\n",
    "- 第一次合并，将每个单独的元素进行两两比较合并的时候，O(n),第2次合并，将每两个单独的元素进行比较合并的时候，O(n)\n",
    "- 一共需要$x$次可以全部完成合并，$2^x$=n=len(li), $x = log_2n$\n",
    "- 最优时间复杂度：O(nlogn)\n",
    "- 最坏时间复杂度：O(nlogn)\n",
    "- 稳定：都是从中轴线开始分，也是从中轴线进行合并，而不会像快排一样，有可能左半边只有一个元素，相当于要排最多次n，才能全部排好，所以最坏复杂度是O($n^2$)\n",
    "- 可以保序，但是现实中需要保序的不多"
   ]
  },
  {
   "cell_type": "markdown",
   "metadata": {},
   "source": [
    "### 空间复杂度\n",
    "要新建list，需要开辟同等大小的新空间"
   ]
  },
  {
   "cell_type": "code",
   "execution_count": null,
   "metadata": {},
   "outputs": [],
   "source": []
  }
 ],
 "metadata": {
  "kernelspec": {
   "display_name": "Python 3",
   "language": "python",
   "name": "python3"
  },
  "language_info": {
   "codemirror_mode": {
    "name": "ipython",
    "version": 3
   },
   "file_extension": ".py",
   "mimetype": "text/x-python",
   "name": "python",
   "nbconvert_exporter": "python",
   "pygments_lexer": "ipython3",
   "version": "3.6.5"
  }
 },
 "nbformat": 4,
 "nbformat_minor": 2
}
